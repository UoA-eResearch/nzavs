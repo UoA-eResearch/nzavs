{
 "cells": [
  {
   "cell_type": "code",
   "execution_count": null,
   "metadata": {},
   "outputs": [],
   "source": [
    "import pandas as pd\n",
    "import numpy as np\n",
    "from tqdm.auto import tqdm\n",
    "import json\n",
    "import geocoder\n",
    "import pandas as pd\n",
    "\n",
    "df = pd.read_csv(\"nick.nzavs.long.csv\")\n",
    "regc_centroids = pd.read_csv(\"regc_centroids.csv\")"
   ]
  },
  {
   "cell_type": "code",
   "execution_count": null,
   "metadata": {},
   "outputs": [],
   "source": [
    "df.dropna(subset=[\"Census.Born.L2\"]).drop_duplicates(subset=[\"Id\"])"
   ]
  },
  {
   "cell_type": "code",
   "execution_count": null,
   "metadata": {},
   "outputs": [],
   "source": [
    "l2_lookup = {\n",
    "0: \"Supplementary codes\",\n",
    "10: \"Oceania and Antarctica\",\n",
    "11: \"Australia\",\n",
    "12: \"New Zealand\",\n",
    "13: \"Melanesia\",\n",
    "14: \"Micronesia\",\n",
    "15: \"Polynesia\",\n",
    "16: \"Antarctica\",\n",
    "20: \"North-West Europe\",\n",
    "21: \"United Kingdom\",\n",
    "22: \"Ireland\",\n",
    "23: \"Western Europe\",\n",
    "24: \"Northern Europe\",\n",
    "30: \"Southern and Eastern Europe\",\n",
    "31: \"Southern Europe\",\n",
    "32: \"South Eastern Europe\",\n",
    "33: \"Eastern Europe\",\n",
    "40: \"North Africa and the Middle East\",\n",
    "41: \"North Africa\",\n",
    "42: \"Middle East\",\n",
    "50: \"South-East Asia\",\n",
    "51: \"Mainland South-East Asia\",\n",
    "52: \"Maritime South-East Asia\",\n",
    "61: \"North-East Asia\",\n",
    "70: \"Southern and Central Asia\",\n",
    "71: \"Southern Asia\",\n",
    "72: \"Central Asia\",\n",
    "80: \"The Americas\",\n",
    "81: \"Northern America\",\n",
    "82: \"South America\",\n",
    "83: \"Central America\",\n",
    "84: \"Caribbean\",\n",
    "90: \"Sub-Saharan Africa\",\n",
    "91: \"Central and West Africa\",\n",
    "92: \"Southern and East Africa\",\n",
    "}"
   ]
  },
  {
   "cell_type": "code",
   "execution_count": null,
   "metadata": {},
   "outputs": [],
   "source": [
    "df.dropna(subset=[\"Census.Born.L2\"]).drop_duplicates(subset=[\"Id\"])[\"Census.Born.L2\"].astype(int).apply(lambda x: l2_lookup[x]).value_counts()"
   ]
  },
  {
   "cell_type": "code",
   "execution_count": null,
   "metadata": {},
   "outputs": [],
   "source": [
    "countries = df[\"Census.Born.L2\"].dropna().astype(int).apply(lambda x: l2_lookup[x]).unique()\n",
    "display(countries)\n",
    "lookup = {}\n",
    "for country in tqdm(countries):\n",
    "    g = gmaps.geocode(country)\n",
    "    print(country, g)\n",
    "    if g:\n",
    "        lookup[country] = g[0][\"geometry\"][\"location\"]"
   ]
  },
  {
   "cell_type": "code",
   "execution_count": null,
   "metadata": {},
   "outputs": [],
   "source": [
    "display(lookup)"
   ]
  },
  {
   "cell_type": "code",
   "execution_count": null,
   "metadata": {},
   "outputs": [],
   "source": [
    "lookup = {'New Zealand': {'lat': -40.900557, 'lng': 174.885971},\n",
    " 'Ireland': {'lat': 53.1423672, 'lng': -7.692053599999999},\n",
    " 'United Kingdom': {'lat': 55.378051, 'lng': -3.435973},\n",
    " 'Western Europe': {'lat': 46.2021848, 'lng': 1.2643875},\n",
    " 'Polynesia': {'lat': -16.8395019, 'lng': -148.3716902},\n",
    " 'Maritime South-East Asia': {'lat': 0.1065949, 'lng': 99.82776299999999},\n",
    " 'Australia': {'lat': -25.274398, 'lng': 133.775136},\n",
    " 'North-East Asia': {'lat': 34.047863, 'lng': 100.6196553},\n",
    " 'Northern America': {'lat': 37.09024, 'lng': -95.712891},\n",
    " 'South Eastern Europe': {'lat': 41.8101472, 'lng': 21.0937311},\n",
    " 'South America': {'lat': -8.783195, 'lng': -55.491477},\n",
    " 'Southern and East Africa': {'lat': 0.3504167, 'lng': 32.5970189},\n",
    " 'Southern Asia': {'lat': 25.03764, 'lng': 76.4563087},\n",
    " 'Middle East': {'lat': 29.2985278, 'lng': 42.5509603},\n",
    " 'Southern Europe': {'lat': 41.2745004, 'lng': -1.2121322},\n",
    " 'Central and West Africa': {'lat': 13.531665, 'lng': -2.4604145},\n",
    " 'Northern Europe': {'lat': 62.27864750000001, 'lng': 12.3401709},\n",
    " 'Eastern Europe': {'lat': 52.0055148, 'lng': 37.95874939999999},\n",
    " 'Mainland South-East Asia': {'lat': 14.7145173, 'lng': 102.0718281},\n",
    " 'Central Asia': {'lat': 45.4506875, 'lng': 68.8319005},\n",
    " 'Melanesia': {'lat': -8.190185699999999, 'lng': 152.8264684},\n",
    " 'North Africa': {'lat': 26.0197776, 'lng': 32.277834},\n",
    " 'South-East Asia': {'lat': -2.2179704, 'lng': 115.66283},\n",
    " 'Central America': {'lat': 12.7690126, 'lng': -85.60236429999999},\n",
    " 'Caribbean': {'lat': 21.4691137, 'lng': -78.6568942},\n",
    " 'The Americas': {'lat': 54.5259614, 'lng': -105.2551187},\n",
    " 'North Africa and the Middle East': {'lat': 29.2985278, 'lng': 42.5509603},\n",
    " 'Micronesia': {'lat': 7.425554, 'lng': 150.550812}}"
   ]
  },
  {
   "cell_type": "code",
   "execution_count": null,
   "metadata": {},
   "outputs": [],
   "source": [
    "output = []\n",
    "countries = df.dropna(subset=[\"Census.Born.L2\"]).drop_duplicates(subset=[\"Id\"])[\"Census.Born.L2\"].astype(int).apply(lambda x: l2_lookup[x]).value_counts()\n",
    "for country, count in countries.items():\n",
    "    ll = lookup.get(country)\n",
    "    output.append({\"country\": country, \"pct\": str(round(count / sum(countries) * 100, 4)) + \"%\", \"latlong\": ll})\n",
    "display(output)\n",
    "with open(\"birth_countries.json\", \"w\") as f:\n",
    "    json.dump(output, f)"
   ]
  },
  {
   "cell_type": "code",
   "execution_count": null,
   "metadata": {},
   "outputs": [],
   "source": [
    "df.columns"
   ]
  },
  {
   "cell_type": "code",
   "execution_count": null,
   "metadata": {},
   "outputs": [],
   "source": [
    "avsregc_lookup = {\n",
    "    1: \"Auckland\",\n",
    "    2: \"Bay of Plenty\",\n",
    "    3: \"Canterbury\",\n",
    "    4: \"Gisborne\",\n",
    "    5: \"Hawke's Bay\",\n",
    "    6: \"Manawatu-Wanganui\",\n",
    "    7: \"Marlborough\",\n",
    "    8: \"Nelson\",\n",
    "    9: \"Northland\",\n",
    "    10: \"Otago\",\n",
    "    11: \"Southland\",\n",
    "    12: \"Taranaki\",\n",
    "    13: \"Tasman\",\n",
    "    14: \"Waikato\",\n",
    "    15: \"Wellington\",\n",
    "    16: \"West Coast\"\n",
    "}\n",
    "regions = {}\n",
    "for k, v in avsregc_lookup.items():\n",
    "    spatial = regc_centroids[regc_centroids.Name == v + \" Region\"]\n",
    "    lat = spatial.Y.iloc[0]\n",
    "    lng = spatial.X.iloc[0]\n",
    "    regions[k] = {\n",
    "        \"name\": v,\n",
    "        \"lat\": lat,\n",
    "        \"lng\": lng\n",
    "    }\n",
    "print(regions)\n",
    "with open(\"regions.json\", \"w\") as f:\n",
    "    json.dump(regions, f)"
   ]
  },
  {
   "cell_type": "code",
   "execution_count": null,
   "metadata": {},
   "outputs": [],
   "source": [
    "yearMigrations = {}\n",
    "for i in tqdm(range(1, len(df))):\n",
    "    pid = df.Id[i]\n",
    "    lastPid = df.Id[i - 1]\n",
    "    wave = df.Wave[i]\n",
    "    lastWave = df.Wave[i - 1]\n",
    "    try:\n",
    "        originId = int(df.REGC_2006[i - 1])\n",
    "        destinationId = int(df.REGC_2006[i])\n",
    "        if pid == lastPid and wave == lastWave + 1:\n",
    "            year = str(lastWave)\n",
    "            if year not in yearMigrations:\n",
    "                yearMigrations[year] = {}\n",
    "            migrationId = f\"{originId}>{destinationId}\"\n",
    "            if migrationId not in yearMigrations[year]:\n",
    "                yearMigrations[year][migrationId] = 0\n",
    "            yearMigrations[year][migrationId] += 1\n",
    "    except ValueError:\n",
    "        pass\n"
   ]
  },
  {
   "cell_type": "code",
   "execution_count": null,
   "metadata": {},
   "outputs": [],
   "source": [
    "for year, migrations in yearMigrations.items():\n",
    "    yearTotal = sum([v for k,v in migrations.items()])\n",
    "    for k,v in migrations.items():\n",
    "        migrations[k] = str(round(v / yearTotal * 100, 4)) + \"%\""
   ]
  },
  {
   "cell_type": "code",
   "execution_count": null,
   "metadata": {},
   "outputs": [],
   "source": [
    "with open(\"migrations.json\", \"w\") as f:\n",
    "    json.dump(yearMigrations, f)"
   ]
  },
  {
   "cell_type": "code",
   "execution_count": null,
   "metadata": {},
   "outputs": [],
   "source": []
  }
 ],
 "metadata": {
  "kernelspec": {
   "display_name": "Python 3",
   "language": "python",
   "name": "python3"
  },
  "language_info": {
   "codemirror_mode": {
    "name": "ipython",
    "version": 3
   },
   "file_extension": ".py",
   "mimetype": "text/x-python",
   "name": "python",
   "nbconvert_exporter": "python",
   "pygments_lexer": "ipython3",
   "version": "3.6.8"
  }
 },
 "nbformat": 4,
 "nbformat_minor": 2
}
